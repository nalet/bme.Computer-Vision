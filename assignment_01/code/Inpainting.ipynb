{
 "cells": [
  {
   "cell_type": "markdown",
   "metadata": {},
   "source": [
    "# Assignment 1 - Inpainting\n",
    "\n",
    "Name: <br>\n",
    "Matriculation number:"
   ]
  },
  {
   "cell_type": "code",
   "execution_count": null,
   "metadata": {},
   "outputs": [],
   "source": [
    "from numpy import *\n",
    "from PIL import Image\n",
    "import matplotlib.pyplot as plt\n",
    "from scipy import sparse"
   ]
  },
  {
   "cell_type": "code",
   "execution_count": null,
   "metadata": {},
   "outputs": [],
   "source": [
    "im = array(Image.open('grumpycat.jpeg')) / 256\n",
    "\n",
    "# mask\n",
    "h, w, _ = im.shape\n",
    "omega = ones((h, w))\n",
    "omega[195:209, 31:134] = 0\n",
    "omega[31:65, 166:194] = 0\n",
    "\n",
    "# create input image\n",
    "omega3 = expand_dims(omega, 2)\n",
    "g = im * omega3\n",
    "\n",
    "plt.figure()\n",
    "plt.subplot(1, 2, 1)\n",
    "plt.imshow(im)\n",
    "plt.subplot(1, 2, 2)\n",
    "plt.imshow(g)"
   ]
  },
  {
   "cell_type": "markdown",
   "metadata": {},
   "source": [
    "## (a) Gradient Descent"
   ]
  },
  {
   "cell_type": "code",
   "execution_count": null,
   "metadata": {},
   "outputs": [],
   "source": [
    "def GD(g, omega, lmbda):\n",
    "    \"\"\"\n",
    "    g: color image of size (M, N, 3)\n",
    "    omega: mask of size (M, N)\n",
    "    lmbda: regularization parameter\n",
    "\n",
    "    :returns u: inpainted image of size (M, N, 3)\n",
    "    \"\"\"\n",
    "    return g"
   ]
  },
  {
   "cell_type": "code",
   "execution_count": null,
   "metadata": {},
   "outputs": [],
   "source": [
    "lmbda = 1  # change\n",
    "uG = GD(g, omega, lmbda)\n",
    "\n",
    "plt.figure()\n",
    "plt.subplot(1, 2, 1)\n",
    "plt.imshow(g)\n",
    "plt.title('original')\n",
    "plt.subplot(1, 2, 2)\n",
    "plt.imshow(uG)\n",
    "plt.title('reconstructed')"
   ]
  },
  {
   "cell_type": "markdown",
   "metadata": {},
   "source": [
    "## (b) Linearization + Gauss-Seidel"
   ]
  },
  {
   "cell_type": "code",
   "execution_count": null,
   "metadata": {},
   "outputs": [],
   "source": [
    "def LGS(g, omega, lmbda):\n",
    "    \"\"\"\n",
    "    g: color image of size (M, N, 3)\n",
    "    omega: mask of size (M, N)\n",
    "    lmbda: regularization parameter\n",
    "\n",
    "    :returns u: inpainted image of size (M, N, 3)\n",
    "    \n",
    "    \"\"\"\n",
    "    return g"
   ]
  },
  {
   "cell_type": "code",
   "execution_count": null,
   "metadata": {},
   "outputs": [],
   "source": [
    "lmbda = 1  # change\n",
    "uG = LGS(g, omega, lmbda)\n",
    "\n",
    "plt.figure()\n",
    "plt.subplot(1, 2, 1)\n",
    "plt.imshow(g)\n",
    "plt.title('original')\n",
    "plt.subplot(1, 2, 2)\n",
    "plt.imshow(uG)\n",
    "plt.title('reconstructed')"
   ]
  },
  {
   "cell_type": "markdown",
   "metadata": {},
   "source": [
    "## (c) Linearization + SOR"
   ]
  },
  {
   "cell_type": "code",
   "execution_count": null,
   "metadata": {},
   "outputs": [],
   "source": [
    "def LSOR(g, omega, lmbda):\n",
    "    \"\"\"\n",
    "    g: color image of size (M, N, 3)\n",
    "    omega: mask of size (M, N)\n",
    "    lmbda: regularization parameter\n",
    "\n",
    "    :returns u: inpainted image of size (M, N, 3)\n",
    "    \"\"\"\n",
    "    return g"
   ]
  },
  {
   "cell_type": "code",
   "execution_count": null,
   "metadata": {},
   "outputs": [],
   "source": [
    "lmbda = 1  # change\n",
    "uG = LSOR(g, omega, lmbda)\n",
    "\n",
    "plt.figure()\n",
    "plt.subplot(1, 2, 1)\n",
    "plt.imshow(g)\n",
    "plt.title('original')\n",
    "plt.subplot(1, 2, 2)\n",
    "plt.imshow(uG)\n",
    "plt.title('reconstructed')"
   ]
  }
 ],
 "metadata": {
  "kernelspec": {
   "display_name": "Python 3",
   "language": "python",
   "name": "python3"
  },
  "language_info": {
   "codemirror_mode": {
    "name": "ipython",
    "version": 3
   },
   "file_extension": ".py",
   "mimetype": "text/x-python",
   "name": "python",
   "nbconvert_exporter": "python",
   "pygments_lexer": "ipython3",
   "version": "3.7.4"
  }
 },
 "nbformat": 4,
 "nbformat_minor": 2
}
