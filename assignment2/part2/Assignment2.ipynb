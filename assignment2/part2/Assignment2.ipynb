{
 "cells": [
  {
   "cell_type": "markdown",
   "metadata": {},
   "source": [
    "# Assignment 2 - Epipolar Geometry and 3D Reconstruction \n",
    "\n",
    "First name: Nalet\n",
    "<br>\n",
    "Last name: Meinen\n",
    "<br>\n",
    "Matriculation number: 13-463-955"
   ]
  },
  {
   "cell_type": "code",
   "execution_count": 1,
   "metadata": {
    "scrolled": false
   },
   "outputs": [],
   "source": [
    "%load_ext autoreload\n",
    "%autoreload 2\n",
    "%matplotlib inline\n",
    "import os\n",
    "\n",
    "import numpy as np\n",
    "from PIL import Image\n",
    "import ipyvolume as ipv\n",
    "import matplotlib.pyplot as plt\n",
    "\n",
    "from utils import decompose_essential_matrix, infer_3d, ransac"
   ]
  },
  {
   "cell_type": "markdown",
   "metadata": {},
   "source": [
    "## Part II: 3D Model Reconstruction"
   ]
  },
  {
   "cell_type": "markdown",
   "metadata": {},
   "source": [
    "### Load matched points\n",
    "We provide a synthetic pair of images where noisy correspondences are known."
   ]
  },
  {
   "cell_type": "code",
   "execution_count": 2,
   "metadata": {
    "scrolled": false
   },
   "outputs": [],
   "source": [
    "left = np.array(Image.open(os.path.join('MatchedPoints','left.jpg')), dtype=np.float32).mean(2)/255\n",
    "right = np.array(Image.open(os.path.join('MatchedPoints','right.jpg')), dtype=np.float32).mean(2)/255"
   ]
  },
  {
   "cell_type": "code",
   "execution_count": 3,
   "metadata": {
    "scrolled": false
   },
   "outputs": [
    {
     "data": {
      "text/plain": [
       "Text(0.5, 1.0, 'Right image')"
      ]
     },
     "execution_count": 3,
     "metadata": {},
     "output_type": "execute_result"
    },
    {
     "data": {
      "image/png": "[encoded data removed]",
      "text/plain": [
       "<Figure size 432x288 with 2 Axes>"
      ]
     },
     "metadata": {
      "needs_background": "light"
     },
     "output_type": "display_data"
    }
   ],
   "source": [
    "plt.subplot(1,2,1)\n",
    "plt.imshow(left, cmap='gray')\n",
    "plt.title('Left image')\n",
    "plt.subplot(1,2,2)\n",
    "plt.imshow(right, cmap='gray')\n",
    "plt.title('Right image')"
   ]
  },
  {
   "cell_type": "code",
   "execution_count": 4,
   "metadata": {
    "scrolled": false
   },
   "outputs": [],
   "source": [
    "ilias_username = \"n.meinen\" # TODO\n",
    "A = np.loadtxt(f'MatchedPoints/Matched_Points_{ilias_username}.txt')"
   ]
  },
  {
   "cell_type": "code",
   "execution_count": 5,
   "metadata": {
    "scrolled": false
   },
   "outputs": [],
   "source": [
    "M, N = A.shape\n",
    "leftPoints = np.concatenate((A[:,2:4].T, np.ones((1, M))), axis=0)\n",
    "rightPoints = np.concatenate((A[:,0:2].T, np.ones((1, M))), axis=0)"
   ]
  },
  {
   "cell_type": "markdown",
   "metadata": {},
   "source": [
    "### Calibration matrix and focal length from the given file"
   ]
  },
  {
   "cell_type": "code",
   "execution_count": 6,
   "metadata": {
    "scrolled": false
   },
   "outputs": [],
   "source": [
    "fl = 4\n",
    "K = np.array([\n",
    "    [-83.33333, 0.00000, 250.00000],\n",
    "    [0.00000, -83.33333, 250.00000],\n",
    "    [0.00000, 0.00000,   1.00000],\n",
    "])\n",
    "\n",
    "I = K.copy()\n",
    "\n",
    "I[0,0] *= fl\n",
    "I[1,1] *= fl"
   ]
  },
  {
   "cell_type": "markdown",
   "metadata": {},
   "source": [
    "### Estimate Essential matrix E from F with RANSAC"
   ]
  },
  {
   "cell_type": "code",
   "execution_count": 24,
   "metadata": {
    "scrolled": true
   },
   "outputs": [
    {
     "data": {
      "application/vnd.jupyter.widget-view+json": {
       "model_id": "44b5f0c5df804c9eaf8d8453037a21e2",
       "version_major": 2,
       "version_minor": 0
      },
      "text/plain": [
       "HBox(children=(FloatProgress(value=0.0, max=10.0), HTML(value='')))"
      ]
     },
     "metadata": {},
     "output_type": "display_data"
    },
    {
     "name": "stdout",
     "output_type": "stream",
     "text": [
      "\n",
      "Num outliers 3447\n",
      "Estimated fundamental matrix: \n",
      "[[-1.58905049e-07  1.93470041e-05 -7.19478797e-03]\n",
      " [-1.17279713e-06 -2.23822334e-06 -1.62406433e-02]\n",
      " [ 3.37597496e-04  1.18904927e-02  1.81664614e+00]]\n",
      "Estimated essential matrix: \n",
      "[[-1.76561151e-02  2.14966695e+00  7.99254375e-01]\n",
      " [-1.30310782e-01 -2.48691462e-01  5.69779925e+00]\n",
      " [-1.55731727e-03 -5.38922909e+00  8.78284269e-04]]\n"
     ]
    }
   ],
   "source": [
    "good_threshold = 0.1 # TODO\n",
    "F, inliers = ransac(leftPoints, rightPoints, good_threshold)\n",
    "print('Num outliers', leftPoints.shape[1] - inliers.shape[0]) #we correct it as we cannot sum idx\n",
    "assert np.linalg.matrix_rank(F) == 2\n",
    "print('Estimated fundamental matrix: ')\n",
    "print(F)\n",
    "\n",
    "# TODO: Estimate essential matrix E from F\n",
    "E = I.T @ F @ I\n",
    "\n",
    "print('Estimated essential matrix: ')\n",
    "print(E)"
   ]
  },
  {
   "cell_type": "markdown",
   "metadata": {},
   "source": [
    "### Compute rotation and translation between views"
   ]
  },
  {
   "cell_type": "code",
   "execution_count": 15,
   "metadata": {
    "scrolled": false
   },
   "outputs": [
    {
     "name": "stdout",
     "output_type": "stream",
     "text": [
      "Estimated translation: \n",
      "[ 0.91901457 -0.12897148  0.37252997]\n",
      "Estimated rotation: \n",
      "[[ 0.92725869  0.13700572 -0.3484548 ]\n",
      " [-0.12973386  0.99056142  0.04424025]\n",
      " [ 0.35122705  0.00418423  0.93628097]]\n"
     ]
    }
   ],
   "source": [
    "# TODO: Compute rotation and translation between views. Complete decomposeE\n",
    "Il = np.linalg.solve(I, leftPoints)\n",
    "Ir = np.linalg.solve(I, rightPoints)\n",
    "\n",
    "Pl, Pr = decompose_essential_matrix(-E, Il, Ir)\n",
    "\n",
    "print('Estimated translation: ')\n",
    "print(Pr[:,3])\n",
    "print('Estimated rotation: ')\n",
    "print(Pr[:,:3])"
   ]
  },
  {
   "cell_type": "markdown",
   "metadata": {},
   "source": [
    "### Estimate the 3D points"
   ]
  },
  {
   "cell_type": "code",
   "execution_count": 16,
   "metadata": {
    "pycharm": {
     "name": "#%%\n"
    },
    "scrolled": false
   },
   "outputs": [
    {
     "data": {
      "application/vnd.jupyter.widget-view+json": {
       "model_id": "f61e158ba57c48c78ff6e90418f43bc3",
       "version_major": 2,
       "version_minor": 0
      },
      "text/plain": [
       "VBox(children=(Figure(camera=PerspectiveCamera(fov=46.0, position=(0.0, 0.0, 2.0), projectionMatrix=(1.0, 0.0,…"
      ]
     },
     "metadata": {},
     "output_type": "display_data"
    }
   ],
   "source": [
    "x3D = infer_3d(Il, Ir, Pl, Pr)\n",
    "ipv.quickscatter(x=x3D[0,:], y=x3D[1,:], z=x3D[2,:])"
   ]
  },
  {
   "cell_type": "code",
   "execution_count": 34,
   "metadata": {},
   "outputs": [
    {
     "name": "stdout",
     "output_type": "stream",
     "text": [
      "l-norm rot: \t 51.49930463712777\n",
      "l-norm trans: \t 1.1076824922195605\n"
     ]
    }
   ],
   "source": [
    "Rr = np.array([[0.92848, - 0.12930, 0.34815], \n",
    "               [0,         0.93744, 0.34815], \n",
    "               [-0.37139, -0.32325, 0.87039]])\n",
    "\n",
    "tr = np.array([2, 2, 5])\n",
    "\n",
    "Rl = np.array([[1,  0,       0      ], \n",
    "               [0,  0.92848, 0.37139], \n",
    "               [0, -0.37139, 0.92848]])\n",
    "\n",
    "tl = np.array([0, 2, 5])\n",
    "\n",
    "R_est = Pr[:,:3]\n",
    "t_est = Pr[:,3] \n",
    "\n",
    "H_est = np.identity(4)\n",
    "H_est[:3, :4] = Pr \n",
    "\n",
    "Hr = np.identity(4)\n",
    "Hr[:3,:3] = Rr\n",
    "Hr[:3, 3] = tr\n",
    "\n",
    "Hl = np.identity(4)\n",
    "Hl[:3,:3] = Rl\n",
    "Hl[:3, 3] = tl\n",
    "\n",
    "H_gt = Hr @ np.linalg.inv(Hl)\n",
    "\n",
    "R_gt = H_gt[:3, :3]\n",
    "t_gt = H_gt[:3, 3]\n",
    "\n",
    "beta_est  = np.arctan2(-R_est[2, 0],                       np.sqrt(R_est[0, 0] ** 2 + R_est[1, 0] ** 2 ))\n",
    "alpha_est = np.arctan2( R_est[2, 1] / np.cos(beta_est),    R_est[2, 2] / np.cos(beta_est))\n",
    "gamma_est = np.arctan2( R_est[1, 0] / np.cos(beta_est),    R_est[0, 0] / np.cos(beta_est))\n",
    "\n",
    "beta_gt   = np.arctan2(-R_gt[2, 0],                        np.sqrt(R_gt[0, 0] ** 2 + R_gt[1, 0] ** 2 ))\n",
    "alpha_gt  = np.arctan2( R_gt[2, 1] / np.cos(beta_gt),      R_gt[2, 2] / np.cos(beta_gt)) \n",
    "gamma_gt  = np.arctan2( R_gt[1, 0] / np.cos(beta_gt),      R_gt[0, 0] / np.cos(beta_gt)) \n",
    "\n",
    "print(\"l-norm rot: \\t\", np.sum((np.abs(alpha_est - alpha_gt), np.abs(beta_est - beta_gt), np.abs(gamma_est - gamma_gt))) * 180/np.pi)\n",
    "print(\"l-norm trans: \\t\", np.sum(np.abs(t_est - t_gt)))"
   ]
  }
 ],
 "metadata": {
  "kernelspec": {
   "display_name": "Python 3",
   "language": "python",
   "name": "python3"
  },
  "language_info": {
   "codemirror_mode": {
    "name": "ipython",
    "version": 3
   },
   "file_extension": ".py",
   "mimetype": "text/x-python",
   "name": "python",
   "nbconvert_exporter": "python",
   "pygments_lexer": "ipython3",
   "version": "3.8.3"
  }
 },
 "nbformat": 4,
 "nbformat_minor": 4
}
